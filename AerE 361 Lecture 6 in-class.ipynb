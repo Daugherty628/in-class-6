{
 "cells": [
  {
   "cell_type": "markdown",
   "id": "224a2fff",
   "metadata": {},
   "source": [
    "# AerE 361 - Professor Nelson\n",
    "## Lecture 6 - In-class Notebook\n",
    "## Introduction to C\n",
    "\n",
    "### Student Name here"
   ]
  },
  {
   "cell_type": "markdown",
   "id": "24777af8",
   "metadata": {},
   "source": [
    "# Turn in instructions\n",
    "\n",
    "1. Make sure you put your name in the block above\n",
    "2. Complete and answer questions in this notebook\n",
    "3. Make sure you run all code in this notebook\n",
    "4. Go to File->Download As->.html\n",
    "\n",
    "Upload the HTML file to the assignment to Canvas. Only HTML submissions will be accepted. Any other submission will recieve a zero."
   ]
  },
  {
   "attachments": {},
   "cell_type": "markdown",
   "id": "0173a46d",
   "metadata": {},
   "source": [
    "## Bell labs\n",
    "<center><img src=\"https://upload.wikimedia.org/wikipedia/commons/thumb/9/98/Bell_Laboratories_logo.svg/2880px-Bell_Laboratories_logo.svg.png\" style=\"background-color:white\" width=\"800\"/></center>\n",
    "\n",
    "In the box below, list at least three things that came from Bell Labs."
   ]
  },
  {
   "cell_type": "markdown",
   "id": "72f51c21",
   "metadata": {},
   "source": []
  },
  {
   "attachments": {},
   "cell_type": "markdown",
   "id": "1178e3d8",
   "metadata": {},
   "source": [
    "# Your first C Program\n",
    "Although you did a C and Python program in Mission 2, let's do another very basic C program. If you are running this in our Codespace or Docker, you can actually run this C code in this notebook. Write a C program that says \"Hello, world!\". To get you started, look at the code below.\n",
    "\n",
    "```C\n",
    "#include <stdio.h> // Needed to perform IO operations\n",
    "int main() {                    // Program entry point\n",
    "                                // Says Hello\n",
    "    return 0;                   // Terminate main()\n",
    "}\n",
    "```"
   ]
  },
  {
   "cell_type": "code",
   "execution_count": null,
   "id": "eae49e5d",
   "metadata": {},
   "outputs": [],
   "source": [
    "// Put your code here"
   ]
  },
  {
   "attachments": {},
   "cell_type": "markdown",
   "id": "5dcc2160",
   "metadata": {},
   "source": [
    "Basic math can be done in C and we can combine what we are doing with our print statement and doing some basic math. Our usual options, +, -, * and / are all available in C. To print a variable though, we need to tell printf some information. For a simple integer, we can simply use the %d and that also acts as the placeholder where we want the calculated value to be.\n",
    "\n",
    "```C\n",
    "int sum = 2+2;\n",
    "printf(\"2 + 2 = %d\",sum);\n",
    "```\n",
    "\n",
    "Write a C program that adds 100 plus 200 and prints the results."
   ]
  },
  {
   "cell_type": "code",
   "execution_count": null,
   "id": "48bd5274",
   "metadata": {},
   "outputs": [],
   "source": [
    "// Put your code here"
   ]
  }
 ],
 "metadata": {
  "kernelspec": {
   "display_name": "C",
   "language": "c",
   "name": "c"
  },
  "language_info": {
   "file_extension": ".c",
   "mimetype": "text/plain",
   "name": "c"
  }
 },
 "nbformat": 4,
 "nbformat_minor": 5
}
